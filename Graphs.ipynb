{
  "nbformat": 4,
  "nbformat_minor": 0,
  "metadata": {
    "colab": {
      "name": "Graphs.ipynb",
      "provenance": [],
      "collapsed_sections": [],
      "authorship_tag": "ABX9TyMGCvhY3qigikEomw9TbH/Y",
      "include_colab_link": true
    },
    "kernelspec": {
      "name": "python3",
      "display_name": "Python 3"
    },
    "language_info": {
      "name": "python"
    }
  },
  "cells": [
    {
      "cell_type": "markdown",
      "metadata": {
        "id": "view-in-github",
        "colab_type": "text"
      },
      "source": [
        "<a href=\"https://colab.research.google.com/github/iitmanushka137/PDSA_Python/blob/main/Graphs.ipynb\" target=\"_parent\"><img src=\"https://colab.research.google.com/assets/colab-badge.svg\" alt=\"Open In Colab\"/></a>"
      ]
    },
    {
      "cell_type": "code",
      "execution_count": 16,
      "metadata": {
        "colab": {
          "base_uri": "https://localhost:8080/"
        },
        "id": "Zlfzj-W5UceS",
        "outputId": "eb582c8d-ffaa-466e-f07b-b3778614f8e7"
      },
      "outputs": [
        {
          "output_type": "stream",
          "name": "stdout",
          "text": [
            "Requirement already satisfied: numpy in /usr/local/lib/python3.7/dist-packages (1.19.5)\n"
          ]
        }
      ],
      "source": [
        "pip install numpy"
      ]
    },
    {
      "cell_type": "code",
      "source": [
        "D={}\n",
        "for i in range(n):\n",
        "  D[i]=[]\n",
        "for (i,j) in edges:#list of edges (i,j) such that there is an edge from i to j\n",
        "  D[i].append(j)\n",
        "print(D)"
      ],
      "metadata": {
        "id": "PdvpFw1PmjCU"
      },
      "execution_count": null,
      "outputs": []
    },
    {
      "cell_type": "code",
      "source": [
        "import numpy as np\n",
        "A=np.zeros(shape=(10,10))"
      ],
      "metadata": {
        "id": "Q0HL_tgSlWMN"
      },
      "execution_count": 2,
      "outputs": []
    },
    {
      "cell_type": "markdown",
      "source": [
        "# Directed Graph"
      ],
      "metadata": {
        "id": "y2a0YXFwsoz9"
      }
    },
    {
      "cell_type": "markdown",
      "source": [
        "Adjacency Matrix"
      ],
      "metadata": {
        "id": "QNX9QdkGozUg"
      }
    },
    {
      "cell_type": "code",
      "source": [
        "import numpy as np\n",
        "V=[0, 1, 2, 3, 4]\n",
        "E=[(0, 1), (0, 2), (1, 3), (1, 4), (2, 4), (2, 3), (3, 4)]\n",
        "#Adjacency Matrix Creation\n",
        "n=len(V)\n",
        "Amat=np.zeros(shape=(n,n))\n",
        "'''Amat=[]\n",
        "for i in range(n):\n",
        "  row=[]\n",
        "  for j in range(n):\n",
        "    row.append(0)\n",
        "  Amat.append(row.copy())'''\n",
        "for (i,j) in E:\n",
        "  Amat[i,j]=1#Amat[i][j]=1\n",
        "\n",
        "print(Amat)"
      ],
      "metadata": {
        "colab": {
          "base_uri": "https://localhost:8080/"
        },
        "id": "vX3wIdKpo23B",
        "outputId": "b506938b-9db7-448f-db3a-3b9d71ae7d44"
      },
      "execution_count": 9,
      "outputs": [
        {
          "output_type": "stream",
          "name": "stdout",
          "text": [
            "[[0. 1. 1. 0. 0.]\n",
            " [0. 0. 0. 1. 1.]\n",
            " [0. 0. 0. 1. 1.]\n",
            " [0. 0. 0. 0. 1.]\n",
            " [0. 0. 0. 0. 0.]]\n"
          ]
        }
      ]
    },
    {
      "cell_type": "markdown",
      "source": [
        "Adjacency List"
      ],
      "metadata": {
        "id": "g2yHMIwdr1ay"
      }
    },
    {
      "cell_type": "code",
      "source": [
        "V=[0, 1, 2, 3, 4]\n",
        "E=[(0, 1), (0, 2), (1, 3), (1, 4), (2, 4), (2, 3), (3, 4)]\n",
        "d={}\n",
        "for i in V:\n",
        "  d[i]=[]\n",
        "for (i,j) in E:\n",
        "  d[i].append(j)\n",
        "print(d)"
      ],
      "metadata": {
        "colab": {
          "base_uri": "https://localhost:8080/"
        },
        "id": "WicBbpGSr4Yk",
        "outputId": "b86375c9-a300-4185-f901-d742d7095435"
      },
      "execution_count": 10,
      "outputs": [
        {
          "output_type": "stream",
          "name": "stdout",
          "text": [
            "{0: [1, 2], 1: [3, 4], 2: [4, 3], 3: [4], 4: []}\n"
          ]
        }
      ]
    },
    {
      "cell_type": "markdown",
      "source": [
        "# Undirected Graph"
      ],
      "metadata": {
        "id": "XAwUFl5gsxh3"
      }
    },
    {
      "cell_type": "markdown",
      "source": [
        "Adjacency Matrix"
      ],
      "metadata": {
        "id": "gMUG7FZqs06Z"
      }
    },
    {
      "cell_type": "code",
      "source": [
        "V=[0, 1, 2, 3, 4]\n",
        "E=[(0, 1), (0, 2), (1, 3), (1, 4), (2, 4), (2, 3), (3, 4)]\n",
        "G=E+[(j,i) for (i,j) in E]\n",
        "import numpy as np\n",
        "Amat=np.zeros(shape=(len(V),len(V)))\n",
        "'''Amat=[]\n",
        "for i in range(len(V)):\n",
        "  rows=[]\n",
        "  for j in range(len(V)):\n",
        "    rows.append(0)\n",
        "  Amat.append(rows.copy())'''\n",
        "for (i,j) in G:\n",
        "  Amat[i,j]=1#Amat[i][j]=1\n",
        "print(Amat)"
      ],
      "metadata": {
        "colab": {
          "base_uri": "https://localhost:8080/"
        },
        "id": "GAXir1Szs95P",
        "outputId": "fe76c593-1378-419d-9336-9b5d3612c118"
      },
      "execution_count": 12,
      "outputs": [
        {
          "output_type": "stream",
          "name": "stdout",
          "text": [
            "[[0. 1. 1. 0. 0.]\n",
            " [1. 0. 0. 1. 1.]\n",
            " [1. 0. 0. 1. 1.]\n",
            " [0. 1. 1. 0. 1.]\n",
            " [0. 1. 1. 1. 0.]]\n"
          ]
        }
      ]
    },
    {
      "cell_type": "markdown",
      "source": [
        "Adjacency List"
      ],
      "metadata": {
        "id": "Ywj8HhkJ9Vvr"
      }
    },
    {
      "cell_type": "code",
      "source": [
        "V=[0, 1, 2, 3, 4]\n",
        "E=[(0, 1), (0, 2), (1, 3), (1, 4), (2, 4), (2, 3), (3, 4)]\n",
        "G=E+[(j,i) for (i,j) in E]\n",
        "d={}\n",
        "for i in V:\n",
        "  d[i]=[]\n",
        "for (i,j) in G:\n",
        "  d[i].append(j)\n",
        "print(d)"
      ],
      "metadata": {
        "colab": {
          "base_uri": "https://localhost:8080/"
        },
        "id": "YIh8msGY9S4r",
        "outputId": "4cc6f84b-87ae-4e07-fb14-42bb6535e02f"
      },
      "execution_count": 13,
      "outputs": [
        {
          "output_type": "stream",
          "name": "stdout",
          "text": [
            "{0: [1, 2], 1: [3, 4, 0], 2: [4, 3, 0], 3: [4, 1, 2], 4: [1, 2, 3]}\n"
          ]
        }
      ]
    },
    {
      "cell_type": "markdown",
      "source": [
        "# Breadth First Search"
      ],
      "metadata": {
        "id": "YGpFUhO_UjDt"
      }
    },
    {
      "cell_type": "code",
      "source": [
        "pip install snoop"
      ],
      "metadata": {
        "colab": {
          "base_uri": "https://localhost:8080/"
        },
        "id": "VxHUnIM0VBEQ",
        "outputId": "8e996c74-2541-4f93-b640-8906f7d513a2"
      },
      "execution_count": 17,
      "outputs": [
        {
          "output_type": "stream",
          "name": "stdout",
          "text": [
            "Collecting snoop\n",
            "  Downloading snoop-0.4.1-py2.py3-none-any.whl (27 kB)\n",
            "Collecting asttokens\n",
            "  Downloading asttokens-2.0.5-py2.py3-none-any.whl (20 kB)\n",
            "Collecting executing\n",
            "  Downloading executing-0.8.2-py2.py3-none-any.whl (16 kB)\n",
            "Requirement already satisfied: six in /usr/local/lib/python3.7/dist-packages (from snoop) (1.15.0)\n",
            "Requirement already satisfied: pygments in /usr/local/lib/python3.7/dist-packages (from snoop) (2.6.1)\n",
            "Collecting cheap-repr>=0.4.0\n",
            "  Downloading cheap_repr-0.5.1-py2.py3-none-any.whl (12 kB)\n",
            "Installing collected packages: executing, cheap-repr, asttokens, snoop\n",
            "Successfully installed asttokens-2.0.5 cheap-repr-0.5.1 executing-0.8.2 snoop-0.4.1\n"
          ]
        }
      ]
    },
    {
      "cell_type": "code",
      "source": [
        "class Queue:\n",
        "    def __init__(self):\n",
        "        self.queue = []\n",
        "    def addq(self,v):\n",
        "        self.queue.append(v)\n",
        "    def delq(self):\n",
        "        v = None\n",
        "        if not self.isempty():\n",
        "            v = self.queue[0]\n",
        "            self.queue = self.queue[1:]\n",
        "        return(v)    \n",
        "    def isempty(self):\n",
        "        return(self.queue == [])\n",
        "    def __str__(self):\n",
        "        return(str(self.queue))"
      ],
      "metadata": {
        "id": "WRzllLoPUngk"
      },
      "execution_count": 20,
      "outputs": []
    },
    {
      "cell_type": "code",
      "source": [
        "import snoop\n",
        "@snoop\n",
        "def BFSList(AList,v):\n",
        "    visited = {}\n",
        "    for i in AList.keys():\n",
        "        visited[i] = False\n",
        "    q = Queue()\n",
        "    \n",
        "    visited[v] = True\n",
        "    q.addq(v)\n",
        "    \n",
        "    while(not q.isempty()):\n",
        "        j = q.delq()\n",
        "        for k in AList[j]:\n",
        "            if (not visited[k]):\n",
        "                visited[k] = True\n",
        "                q.addq(k)               \n",
        "    return(visited)"
      ],
      "metadata": {
        "id": "i5WXP0VhUqOO"
      },
      "execution_count": 21,
      "outputs": []
    },
    {
      "cell_type": "code",
      "source": [
        ""
      ],
      "metadata": {
        "id": "GMqbwhBQ0UjK"
      },
      "execution_count": null,
      "outputs": []
    }
  ]
}