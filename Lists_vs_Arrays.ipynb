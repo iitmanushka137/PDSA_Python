{
  "nbformat": 4,
  "nbformat_minor": 0,
  "metadata": {
    "colab": {
      "name": "Lists_vs_Arrays.ipynb",
      "provenance": [],
      "authorship_tag": "ABX9TyOfl6JXeWZKy6kqmh6Wqoxo",
      "include_colab_link": true
    },
    "kernelspec": {
      "name": "python3",
      "display_name": "Python 3"
    },
    "language_info": {
      "name": "python"
    }
  },
  "cells": [
    {
      "cell_type": "markdown",
      "metadata": {
        "id": "view-in-github",
        "colab_type": "text"
      },
      "source": [
        "<a href=\"https://colab.research.google.com/github/iitmanushka137/PDSA_Python/blob/main/Lists_vs_Arrays.ipynb\" target=\"_parent\"><img src=\"https://colab.research.google.com/assets/colab-badge.svg\" alt=\"Open In Colab\"/></a>"
      ]
    },
    {
      "cell_type": "markdown",
      "source": [
        "# Lists \n",
        "### Pointing Nodes"
      ],
      "metadata": {
        "id": "UdIRj6kCOSh4"
      }
    },
    {
      "cell_type": "code",
      "execution_count": null,
      "metadata": {
        "id": "Nk2mRT_EONUZ"
      },
      "outputs": [],
      "source": [
        "class Nodes:\n",
        "  def __init__(self,v=None):\n",
        "    self.value=v\n",
        "    self.next=None\n",
        "    return\n",
        "  def isempty(self):\n",
        "    if self.value==None:\n",
        "      return True\n",
        "    else:\n",
        "      return False\n",
        "  #recursive appending\n",
        "  def append(self,v):\n",
        "    if self.isempty():\n",
        "      self.value=v\n",
        "    elif self.next==None:\n",
        "      self.next=Node(v)\n",
        "    else:\n",
        "      self.next.append(v)\n",
        "    return\n",
        "  #iterative appending\n",
        "  def append(self,v):\n",
        "    if isempty():\n",
        "      self.value=v\n",
        "    \n",
        "  "
      ]
    },
    {
      "cell_type": "code",
      "source": [
        "l=[]\n",
        "for i in range(5):\n",
        "  l.insert(0,i)\n",
        "print(l)\n",
        "print(l.pop())"
      ],
      "metadata": {
        "colab": {
          "base_uri": "https://localhost:8080/"
        },
        "id": "482vCTTeh1nO",
        "outputId": "596517fc-be91-467f-eb22-eddfffabbcea"
      },
      "execution_count": 3,
      "outputs": [
        {
          "output_type": "stream",
          "name": "stdout",
          "text": [
            "[4, 3, 2, 1, 0]\n",
            "0\n"
          ]
        }
      ]
    }
  ]
}