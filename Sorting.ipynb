{
  "nbformat": 4,
  "nbformat_minor": 0,
  "metadata": {
    "colab": {
      "name": "Sorting",
      "provenance": [],
      "authorship_tag": "ABX9TyO4lqkQIxbfY5PgxGMARWNf",
      "include_colab_link": true
    },
    "kernelspec": {
      "name": "python3",
      "display_name": "Python 3"
    },
    "language_info": {
      "name": "python"
    }
  },
  "cells": [
    {
      "cell_type": "markdown",
      "metadata": {
        "id": "view-in-github",
        "colab_type": "text"
      },
      "source": [
        "<a href=\"https://colab.research.google.com/github/iitmanushka137/PDSA_Python/blob/main/Sorting.ipynb\" target=\"_parent\"><img src=\"https://colab.research.google.com/assets/colab-badge.svg\" alt=\"Open In Colab\"/></a>"
      ]
    },
    {
      "cell_type": "code",
      "source": [
        "pip install snoop"
      ],
      "metadata": {
        "colab": {
          "base_uri": "https://localhost:8080/"
        },
        "id": "78i0y9sWRkuL",
        "outputId": "5d16fc97-f2fc-4150-f561-c14021389c61"
      },
      "execution_count": 12,
      "outputs": [
        {
          "output_type": "stream",
          "name": "stdout",
          "text": [
            "Collecting snoop\n",
            "  Downloading snoop-0.4.1-py2.py3-none-any.whl (27 kB)\n",
            "Requirement already satisfied: six in /usr/local/lib/python3.7/dist-packages (from snoop) (1.15.0)\n",
            "Collecting cheap-repr>=0.4.0\n",
            "  Downloading cheap_repr-0.5.1-py2.py3-none-any.whl (12 kB)\n",
            "Collecting executing\n",
            "  Downloading executing-0.8.2-py2.py3-none-any.whl (16 kB)\n",
            "Collecting asttokens\n",
            "  Downloading asttokens-2.0.5-py2.py3-none-any.whl (20 kB)\n",
            "Requirement already satisfied: pygments in /usr/local/lib/python3.7/dist-packages (from snoop) (2.6.1)\n",
            "Installing collected packages: executing, cheap-repr, asttokens, snoop\n",
            "Successfully installed asttokens-2.0.5 cheap-repr-0.5.1 executing-0.8.2 snoop-0.4.1\n"
          ]
        }
      ]
    },
    {
      "cell_type": "markdown",
      "source": [
        "Selection Sort"
      ],
      "metadata": {
        "id": "ryobgVJjNaAw"
      }
    },
    {
      "cell_type": "code",
      "source": [
        "import snoop\n",
        "@snoop\n",
        "def selection_sort(L):\n",
        "  n=len(L)\n",
        "  if n<1:\n",
        "    return L\n",
        "  for i in range(n):\n",
        "    mpos=i\n",
        "    for j in range(i+1,n):\n",
        "      if L[j]<L[mpos]:\n",
        "        mpos=j\n",
        "    (L[i],L[mpos])=(L[mpos],L[i])\n",
        "  return(L)\n"
      ],
      "metadata": {
        "id": "eWvXrwGoNdBF"
      },
      "execution_count": 13,
      "outputs": []
    },
    {
      "cell_type": "code",
      "source": [
        "print(selection_sort([10,4,25,1,5]))"
      ],
      "metadata": {
        "colab": {
          "base_uri": "https://localhost:8080/"
        },
        "id": "iwgPU9FMOkO1",
        "outputId": "f8dd8633-0c3d-4018-eed2-80c66547707d"
      },
      "execution_count": 14,
      "outputs": [
        {
          "output_type": "stream",
          "name": "stderr",
          "text": [
            "\n",
            "PYDEV DEBUGGER WARNING:\n",
            "sys.settrace() should not be used when the debugger is being used.\n",
            "This may cause the debugger to stop working correctly.\n",
            "If this is needed, please check: \n",
            "http://pydev.blogspot.com/2007/06/why-cant-pydev-debugger-work-with.html\n",
            "to see how to restore the debug tracing back correctly.\n",
            "Call Location:\n",
            "  File \"/usr/local/lib/python3.7/dist-packages/snoop/tracer.py\", line 207, in __enter__\n",
            "    sys.settrace(self.trace)\n",
            "\n",
            "08:08:02.45 >>> Call to selection_sort in File \"<ipython-input-13-630a6a09f336>\", line 3\n",
            "08:08:02.45 ...... L = [10, 4, 25, 1, 5]\n",
            "08:08:02.45 ...... len(L) = 5\n",
            "08:08:02.45    3 | def selection_sort(L):\n",
            "08:08:02.46    4 |   n=len(L)\n",
            "08:08:02.46 ........ n = 5\n",
            "08:08:02.46    5 |   if n<1:\n",
            "08:08:02.46    7 |   for i in range(n):\n",
            "08:08:02.47 ........ i = 0\n",
            "08:08:02.47    8 |     mpos=i\n",
            "08:08:02.47 .......... mpos = 0\n",
            "08:08:02.47    9 |     for j in range(i+1,n):\n",
            "08:08:02.47 .......... j = 1\n",
            "08:08:02.47   10 |       if L[j]<L[mpos]:\n",
            "08:08:02.47   11 |         mpos=j\n",
            "08:08:02.47 .............. mpos = 1\n",
            "08:08:02.47    9 |     for j in range(i+1,n):\n",
            "08:08:02.47 .......... j = 2\n",
            "08:08:02.47   10 |       if L[j]<L[mpos]:\n",
            "08:08:02.48    9 |     for j in range(i+1,n):\n",
            "08:08:02.48 .......... j = 3\n",
            "08:08:02.48   10 |       if L[j]<L[mpos]:\n",
            "08:08:02.48   11 |         mpos=j\n",
            "08:08:02.48 .............. mpos = 3\n",
            "08:08:02.48    9 |     for j in range(i+1,n):\n",
            "08:08:02.48 .......... j = 4\n",
            "08:08:02.48   10 |       if L[j]<L[mpos]:\n",
            "08:08:02.48    9 |     for j in range(i+1,n):\n",
            "08:08:02.49   12 |     (L[i],L[mpos])=(L[mpos],L[i])\n",
            "08:08:02.49 .......... L = [1, 4, 25, 10, 5]\n",
            "08:08:02.49    7 |   for i in range(n):\n",
            "08:08:02.49 ........ i = 1\n",
            "08:08:02.49    8 |     mpos=i\n",
            "08:08:02.49 .......... mpos = 1\n",
            "08:08:02.49    9 |     for j in range(i+1,n):\n",
            "08:08:02.49 .......... j = 2\n",
            "08:08:02.49   10 |       if L[j]<L[mpos]:\n",
            "08:08:02.49    9 |     for j in range(i+1,n):\n",
            "08:08:02.50 .......... j = 3\n",
            "08:08:02.50   10 |       if L[j]<L[mpos]:\n",
            "08:08:02.50    9 |     for j in range(i+1,n):\n",
            "08:08:02.50 .......... j = 4\n",
            "08:08:02.50   10 |       if L[j]<L[mpos]:\n",
            "08:08:02.50    9 |     for j in range(i+1,n):\n",
            "08:08:02.50   12 |     (L[i],L[mpos])=(L[mpos],L[i])\n",
            "08:08:02.50    7 |   for i in range(n):\n",
            "08:08:02.50 ........ i = 2\n",
            "08:08:02.50    8 |     mpos=i\n",
            "08:08:02.51 .......... mpos = 2\n",
            "08:08:02.51    9 |     for j in range(i+1,n):\n",
            "08:08:02.51 .......... j = 3\n",
            "08:08:02.51   10 |       if L[j]<L[mpos]:\n",
            "08:08:02.51   11 |         mpos=j\n",
            "08:08:02.51 .............. mpos = 3\n",
            "08:08:02.51    9 |     for j in range(i+1,n):\n",
            "08:08:02.51 .......... j = 4\n",
            "08:08:02.51   10 |       if L[j]<L[mpos]:\n",
            "08:08:02.51   11 |         mpos=j\n",
            "08:08:02.52 .............. mpos = 4\n",
            "08:08:02.52    9 |     for j in range(i+1,n):\n",
            "08:08:02.52   12 |     (L[i],L[mpos])=(L[mpos],L[i])\n",
            "08:08:02.52 .......... L = [1, 4, 5, 10, 25]\n",
            "08:08:02.52    7 |   for i in range(n):\n",
            "08:08:02.52 ........ i = 3\n",
            "08:08:02.52    8 |     mpos=i\n",
            "08:08:02.52 .......... mpos = 3\n",
            "08:08:02.52    9 |     for j in range(i+1,n):\n",
            "08:08:02.52   10 |       if L[j]<L[mpos]:\n",
            "08:08:02.52    9 |     for j in range(i+1,n):\n",
            "08:08:02.53   12 |     (L[i],L[mpos])=(L[mpos],L[i])\n",
            "08:08:02.53    7 |   for i in range(n):\n",
            "08:08:02.53 ........ i = 4\n",
            "08:08:02.53    8 |     mpos=i\n",
            "08:08:02.53 .......... mpos = 4\n",
            "08:08:02.53    9 |     for j in range(i+1,n):\n",
            "08:08:02.53   12 |     (L[i],L[mpos])=(L[mpos],L[i])\n",
            "08:08:02.53    7 |   for i in range(n):\n",
            "08:08:02.53   13 |   return(L)\n",
            "08:08:02.54 <<< Return value from selection_sort: [1, 4, 5, 10, 25]\n",
            "\n",
            "PYDEV DEBUGGER WARNING:\n",
            "sys.settrace() should not be used when the debugger is being used.\n",
            "This may cause the debugger to stop working correctly.\n",
            "If this is needed, please check: \n",
            "http://pydev.blogspot.com/2007/06/why-cant-pydev-debugger-work-with.html\n",
            "to see how to restore the debug tracing back correctly.\n",
            "Call Location:\n",
            "  File \"/usr/local/lib/python3.7/dist-packages/snoop/tracer.py\", line 214, in __exit__\n",
            "    sys.settrace(previous_trace)\n",
            "\n"
          ]
        },
        {
          "output_type": "stream",
          "name": "stdout",
          "text": [
            "[1, 4, 5, 10, 25]\n"
          ]
        }
      ]
    },
    {
      "cell_type": "markdown",
      "source": [
        "Insertion Sort"
      ],
      "metadata": {
        "id": "zJ4RgxstLy2S"
      }
    },
    {
      "cell_type": "code",
      "execution_count": 15,
      "metadata": {
        "id": "eRn3FFgWLtnW"
      },
      "outputs": [],
      "source": [
        "import snoop\n",
        "@snoop\n",
        "def insertion_sort(L):\n",
        "  n=len(L)\n",
        "  if n<1:\n",
        "    return L\n",
        "  for i in range(n):\n",
        "    j=i\n",
        "    while(j>0 and L[j]<L[j-1]):\n",
        "      (L[j],L[j-1])=(L[j-1],L[j])\n",
        "      j=j-1\n",
        "  return L\n"
      ]
    },
    {
      "cell_type": "code",
      "source": [
        "print(insertion_sort([10,4,25,1,5]))"
      ],
      "metadata": {
        "colab": {
          "base_uri": "https://localhost:8080/"
        },
        "id": "OgeS2b3fRd-b",
        "outputId": "2239a9d9-9f6d-45be-ee3d-f122d1cd0479"
      },
      "execution_count": 16,
      "outputs": [
        {
          "output_type": "stream",
          "name": "stderr",
          "text": [
            "08:08:28.35 >>> Call to insertion_sort in File \"<ipython-input-15-819902498e47>\", line 3\n",
            "08:08:28.35 ...... L = [10, 4, 25, 1, 5]\n",
            "08:08:28.35 ...... len(L) = 5\n",
            "08:08:28.35    3 | def insertion_sort(L):\n",
            "08:08:28.35    4 |   n=len(L)\n",
            "08:08:28.35 ........ n = 5\n",
            "08:08:28.35    5 |   if n<1:\n",
            "08:08:28.35    7 |   for i in range(n):\n",
            "08:08:28.36 ........ i = 0\n",
            "08:08:28.36    8 |     j=i\n",
            "08:08:28.36 .......... j = 0\n",
            "08:08:28.36    9 |     while(j>0 and L[j]<L[j-1]):\n",
            "08:08:28.36    7 |   for i in range(n):\n",
            "08:08:28.36 ........ i = 1\n",
            "08:08:28.36    8 |     j=i\n",
            "08:08:28.37 .......... j = 1\n",
            "08:08:28.37    9 |     while(j>0 and L[j]<L[j-1]):\n",
            "08:08:28.37   10 |       (L[j],L[j-1])=(L[j-1],L[j])\n",
            "08:08:28.37 ............ L = [4, 10, 25, 1, 5]\n",
            "08:08:28.37   11 |       j=j-1\n",
            "08:08:28.37 ............ j = 0\n",
            "08:08:28.37    9 |     while(j>0 and L[j]<L[j-1]):\n",
            "08:08:28.37    7 |   for i in range(n):\n",
            "08:08:28.37 ........ i = 2\n",
            "08:08:28.37    8 |     j=i\n",
            "08:08:28.37 .......... j = 2\n",
            "08:08:28.37    9 |     while(j>0 and L[j]<L[j-1]):\n",
            "08:08:28.38    7 |   for i in range(n):\n",
            "08:08:28.38 ........ i = 3\n",
            "08:08:28.38    8 |     j=i\n",
            "08:08:28.38 .......... j = 3\n",
            "08:08:28.38    9 |     while(j>0 and L[j]<L[j-1]):\n",
            "08:08:28.38   10 |       (L[j],L[j-1])=(L[j-1],L[j])\n",
            "08:08:28.38 ............ L = [4, 10, 1, 25, 5]\n",
            "08:08:28.38   11 |       j=j-1\n",
            "08:08:28.38 ............ j = 2\n",
            "08:08:28.38    9 |     while(j>0 and L[j]<L[j-1]):\n",
            "08:08:28.38   10 |       (L[j],L[j-1])=(L[j-1],L[j])\n",
            "08:08:28.39 ............ L = [4, 1, 10, 25, 5]\n",
            "08:08:28.39   11 |       j=j-1\n",
            "08:08:28.39 ............ j = 1\n",
            "08:08:28.39    9 |     while(j>0 and L[j]<L[j-1]):\n",
            "08:08:28.39   10 |       (L[j],L[j-1])=(L[j-1],L[j])\n",
            "08:08:28.39 ............ L = [1, 4, 10, 25, 5]\n",
            "08:08:28.39   11 |       j=j-1\n",
            "08:08:28.39 ............ j = 0\n",
            "08:08:28.39    9 |     while(j>0 and L[j]<L[j-1]):\n",
            "08:08:28.39    7 |   for i in range(n):\n",
            "08:08:28.39 ........ i = 4\n",
            "08:08:28.39    8 |     j=i\n",
            "08:08:28.40 .......... j = 4\n",
            "08:08:28.40    9 |     while(j>0 and L[j]<L[j-1]):\n",
            "08:08:28.40   10 |       (L[j],L[j-1])=(L[j-1],L[j])\n",
            "08:08:28.40 ............ L = [1, 4, 10, 5, 25]\n",
            "08:08:28.40   11 |       j=j-1\n",
            "08:08:28.40 ............ j = 3\n",
            "08:08:28.40    9 |     while(j>0 and L[j]<L[j-1]):\n",
            "08:08:28.40   10 |       (L[j],L[j-1])=(L[j-1],L[j])\n",
            "08:08:28.40 ............ L = [1, 4, 5, 10, 25]\n",
            "08:08:28.40   11 |       j=j-1\n",
            "08:08:28.40 ............ j = 2\n",
            "08:08:28.40    9 |     while(j>0 and L[j]<L[j-1]):\n",
            "08:08:28.41    7 |   for i in range(n):\n",
            "08:08:28.41   12 |   return L\n",
            "08:08:28.41 <<< Return value from insertion_sort: [1, 4, 5, 10, 25]\n"
          ]
        },
        {
          "output_type": "stream",
          "name": "stdout",
          "text": [
            "[1, 4, 5, 10, 25]\n"
          ]
        }
      ]
    },
    {
      "cell_type": "markdown",
      "source": [
        "Merge Sort"
      ],
      "metadata": {
        "id": "gDxqWlt5Lvv4"
      }
    },
    {
      "cell_type": "code",
      "source": [
        ""
      ],
      "metadata": {
        "id": "-NpQ59xvSpMD"
      },
      "execution_count": null,
      "outputs": []
    }
  ]
}